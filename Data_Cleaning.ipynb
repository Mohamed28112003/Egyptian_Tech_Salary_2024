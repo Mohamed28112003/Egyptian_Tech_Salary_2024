{
  "nbformat": 4,
  "nbformat_minor": 0,
  "metadata": {
    "colab": {
      "provenance": []
    },
    "kernelspec": {
      "name": "python3",
      "display_name": "Python 3"
    },
    "language_info": {
      "name": "python"
    }
  },
  "cells": [
    {
      "cell_type": "code",
      "execution_count": 791,
      "metadata": {
        "id": "6YhgL2pcVsN2"
      },
      "outputs": [],
      "source": [
        "import pandas as pd\n",
        "import re\n",
        "\n",
        "import numpy as np"
      ]
    },
    {
      "cell_type": "code",
      "source": [
        "df = pd.read_excel('/content/data.xlsx')"
      ],
      "metadata": {
        "id": "7SDuB4lLWJwS"
      },
      "execution_count": 792,
      "outputs": []
    },
    {
      "cell_type": "code",
      "source": [
        "df = df.drop(columns=['طابع زمني'])"
      ],
      "metadata": {
        "id": "eunzpwf8WmNW"
      },
      "execution_count": 793,
      "outputs": []
    },
    {
      "cell_type": "code",
      "source": [
        "df.shape\n"
      ],
      "metadata": {
        "colab": {
          "base_uri": "https://localhost:8080/"
        },
        "id": "WdUAlXgrZT_e",
        "outputId": "2f556056-6d00-424a-cef7-46d8981fbcea"
      },
      "execution_count": 794,
      "outputs": [
        {
          "output_type": "execute_result",
          "data": {
            "text/plain": [
              "(1331, 8)"
            ]
          },
          "metadata": {},
          "execution_count": 794
        }
      ]
    },
    {
      "cell_type": "code",
      "source": [
        "df.head()"
      ],
      "metadata": {
        "colab": {
          "base_uri": "https://localhost:8080/",
          "height": 206
        },
        "id": "JH70uERXZFe9",
        "outputId": "f70e2019-8fc8-49c0-983a-2f0f9352d1e1"
      },
      "execution_count": 795,
      "outputs": [
        {
          "output_type": "execute_result",
          "data": {
            "text/plain": [
              "               Title Years of Experiences  Salary       Date of Salary  \\\n",
              "0  Dotnet Developer                      2   8000  2024-02-01 00:00:00   \n",
              "1       Android deve                   NaN   6000  2024-02-06 00:00:00   \n",
              "2  Android Developer                     1  10000  2024-02-20 00:00:00   \n",
              "3   DevOps Engineer               1 month   10000  2024-02-19 00:00:00   \n",
              "4              Java                      1  20000  2024-02-19 00:00:00   \n",
              "\n",
              "  What Is your Company Work Type  Work Hour City of Company site  \n",
              "0             Egyption    Hybird  Full Time                Cairo  \n",
              "1             Egyption    Hybird  Full Time              Assiut   \n",
              "2             Egyption    Hybird  Full Time                Cairo  \n",
              "3             Egyption   On Site  Full Time              Assiut   \n",
              "4             Egyption   On Site  Full Time                Cairo  "
            ],
            "text/html": [
              "\n",
              "  <div id=\"df-74be5774-a4bf-4632-9a27-82fe73b89819\" class=\"colab-df-container\">\n",
              "    <div>\n",
              "<style scoped>\n",
              "    .dataframe tbody tr th:only-of-type {\n",
              "        vertical-align: middle;\n",
              "    }\n",
              "\n",
              "    .dataframe tbody tr th {\n",
              "        vertical-align: top;\n",
              "    }\n",
              "\n",
              "    .dataframe thead th {\n",
              "        text-align: right;\n",
              "    }\n",
              "</style>\n",
              "<table border=\"1\" class=\"dataframe\">\n",
              "  <thead>\n",
              "    <tr style=\"text-align: right;\">\n",
              "      <th></th>\n",
              "      <th>Title</th>\n",
              "      <th>Years of Experiences</th>\n",
              "      <th>Salary</th>\n",
              "      <th>Date of Salary</th>\n",
              "      <th>What Is your Company</th>\n",
              "      <th>Work Type</th>\n",
              "      <th>Work Hour</th>\n",
              "      <th>City of Company site</th>\n",
              "    </tr>\n",
              "  </thead>\n",
              "  <tbody>\n",
              "    <tr>\n",
              "      <th>0</th>\n",
              "      <td>Dotnet Developer</td>\n",
              "      <td>2</td>\n",
              "      <td>8000</td>\n",
              "      <td>2024-02-01 00:00:00</td>\n",
              "      <td>Egyption</td>\n",
              "      <td>Hybird</td>\n",
              "      <td>Full Time</td>\n",
              "      <td>Cairo</td>\n",
              "    </tr>\n",
              "    <tr>\n",
              "      <th>1</th>\n",
              "      <td>Android deve</td>\n",
              "      <td>NaN</td>\n",
              "      <td>6000</td>\n",
              "      <td>2024-02-06 00:00:00</td>\n",
              "      <td>Egyption</td>\n",
              "      <td>Hybird</td>\n",
              "      <td>Full Time</td>\n",
              "      <td>Assiut</td>\n",
              "    </tr>\n",
              "    <tr>\n",
              "      <th>2</th>\n",
              "      <td>Android Developer</td>\n",
              "      <td>1</td>\n",
              "      <td>10000</td>\n",
              "      <td>2024-02-20 00:00:00</td>\n",
              "      <td>Egyption</td>\n",
              "      <td>Hybird</td>\n",
              "      <td>Full Time</td>\n",
              "      <td>Cairo</td>\n",
              "    </tr>\n",
              "    <tr>\n",
              "      <th>3</th>\n",
              "      <td>DevOps Engineer</td>\n",
              "      <td>1 month</td>\n",
              "      <td>10000</td>\n",
              "      <td>2024-02-19 00:00:00</td>\n",
              "      <td>Egyption</td>\n",
              "      <td>On Site</td>\n",
              "      <td>Full Time</td>\n",
              "      <td>Assiut</td>\n",
              "    </tr>\n",
              "    <tr>\n",
              "      <th>4</th>\n",
              "      <td>Java</td>\n",
              "      <td>1</td>\n",
              "      <td>20000</td>\n",
              "      <td>2024-02-19 00:00:00</td>\n",
              "      <td>Egyption</td>\n",
              "      <td>On Site</td>\n",
              "      <td>Full Time</td>\n",
              "      <td>Cairo</td>\n",
              "    </tr>\n",
              "  </tbody>\n",
              "</table>\n",
              "</div>\n",
              "    <div class=\"colab-df-buttons\">\n",
              "\n",
              "  <div class=\"colab-df-container\">\n",
              "    <button class=\"colab-df-convert\" onclick=\"convertToInteractive('df-74be5774-a4bf-4632-9a27-82fe73b89819')\"\n",
              "            title=\"Convert this dataframe to an interactive table.\"\n",
              "            style=\"display:none;\">\n",
              "\n",
              "  <svg xmlns=\"http://www.w3.org/2000/svg\" height=\"24px\" viewBox=\"0 -960 960 960\">\n",
              "    <path d=\"M120-120v-720h720v720H120Zm60-500h600v-160H180v160Zm220 220h160v-160H400v160Zm0 220h160v-160H400v160ZM180-400h160v-160H180v160Zm440 0h160v-160H620v160ZM180-180h160v-160H180v160Zm440 0h160v-160H620v160Z\"/>\n",
              "  </svg>\n",
              "    </button>\n",
              "\n",
              "  <style>\n",
              "    .colab-df-container {\n",
              "      display:flex;\n",
              "      gap: 12px;\n",
              "    }\n",
              "\n",
              "    .colab-df-convert {\n",
              "      background-color: #E8F0FE;\n",
              "      border: none;\n",
              "      border-radius: 50%;\n",
              "      cursor: pointer;\n",
              "      display: none;\n",
              "      fill: #1967D2;\n",
              "      height: 32px;\n",
              "      padding: 0 0 0 0;\n",
              "      width: 32px;\n",
              "    }\n",
              "\n",
              "    .colab-df-convert:hover {\n",
              "      background-color: #E2EBFA;\n",
              "      box-shadow: 0px 1px 2px rgba(60, 64, 67, 0.3), 0px 1px 3px 1px rgba(60, 64, 67, 0.15);\n",
              "      fill: #174EA6;\n",
              "    }\n",
              "\n",
              "    .colab-df-buttons div {\n",
              "      margin-bottom: 4px;\n",
              "    }\n",
              "\n",
              "    [theme=dark] .colab-df-convert {\n",
              "      background-color: #3B4455;\n",
              "      fill: #D2E3FC;\n",
              "    }\n",
              "\n",
              "    [theme=dark] .colab-df-convert:hover {\n",
              "      background-color: #434B5C;\n",
              "      box-shadow: 0px 1px 3px 1px rgba(0, 0, 0, 0.15);\n",
              "      filter: drop-shadow(0px 1px 2px rgba(0, 0, 0, 0.3));\n",
              "      fill: #FFFFFF;\n",
              "    }\n",
              "  </style>\n",
              "\n",
              "    <script>\n",
              "      const buttonEl =\n",
              "        document.querySelector('#df-74be5774-a4bf-4632-9a27-82fe73b89819 button.colab-df-convert');\n",
              "      buttonEl.style.display =\n",
              "        google.colab.kernel.accessAllowed ? 'block' : 'none';\n",
              "\n",
              "      async function convertToInteractive(key) {\n",
              "        const element = document.querySelector('#df-74be5774-a4bf-4632-9a27-82fe73b89819');\n",
              "        const dataTable =\n",
              "          await google.colab.kernel.invokeFunction('convertToInteractive',\n",
              "                                                    [key], {});\n",
              "        if (!dataTable) return;\n",
              "\n",
              "        const docLinkHtml = 'Like what you see? Visit the ' +\n",
              "          '<a target=\"_blank\" href=https://colab.research.google.com/notebooks/data_table.ipynb>data table notebook</a>'\n",
              "          + ' to learn more about interactive tables.';\n",
              "        element.innerHTML = '';\n",
              "        dataTable['output_type'] = 'display_data';\n",
              "        await google.colab.output.renderOutput(dataTable, element);\n",
              "        const docLink = document.createElement('div');\n",
              "        docLink.innerHTML = docLinkHtml;\n",
              "        element.appendChild(docLink);\n",
              "      }\n",
              "    </script>\n",
              "  </div>\n",
              "\n",
              "\n",
              "<div id=\"df-ad69db4b-7397-4055-a4af-71ff7c4f09c9\">\n",
              "  <button class=\"colab-df-quickchart\" onclick=\"quickchart('df-ad69db4b-7397-4055-a4af-71ff7c4f09c9')\"\n",
              "            title=\"Suggest charts\"\n",
              "            style=\"display:none;\">\n",
              "\n",
              "<svg xmlns=\"http://www.w3.org/2000/svg\" height=\"24px\"viewBox=\"0 0 24 24\"\n",
              "     width=\"24px\">\n",
              "    <g>\n",
              "        <path d=\"M19 3H5c-1.1 0-2 .9-2 2v14c0 1.1.9 2 2 2h14c1.1 0 2-.9 2-2V5c0-1.1-.9-2-2-2zM9 17H7v-7h2v7zm4 0h-2V7h2v10zm4 0h-2v-4h2v4z\"/>\n",
              "    </g>\n",
              "</svg>\n",
              "  </button>\n",
              "\n",
              "<style>\n",
              "  .colab-df-quickchart {\n",
              "      --bg-color: #E8F0FE;\n",
              "      --fill-color: #1967D2;\n",
              "      --hover-bg-color: #E2EBFA;\n",
              "      --hover-fill-color: #174EA6;\n",
              "      --disabled-fill-color: #AAA;\n",
              "      --disabled-bg-color: #DDD;\n",
              "  }\n",
              "\n",
              "  [theme=dark] .colab-df-quickchart {\n",
              "      --bg-color: #3B4455;\n",
              "      --fill-color: #D2E3FC;\n",
              "      --hover-bg-color: #434B5C;\n",
              "      --hover-fill-color: #FFFFFF;\n",
              "      --disabled-bg-color: #3B4455;\n",
              "      --disabled-fill-color: #666;\n",
              "  }\n",
              "\n",
              "  .colab-df-quickchart {\n",
              "    background-color: var(--bg-color);\n",
              "    border: none;\n",
              "    border-radius: 50%;\n",
              "    cursor: pointer;\n",
              "    display: none;\n",
              "    fill: var(--fill-color);\n",
              "    height: 32px;\n",
              "    padding: 0;\n",
              "    width: 32px;\n",
              "  }\n",
              "\n",
              "  .colab-df-quickchart:hover {\n",
              "    background-color: var(--hover-bg-color);\n",
              "    box-shadow: 0 1px 2px rgba(60, 64, 67, 0.3), 0 1px 3px 1px rgba(60, 64, 67, 0.15);\n",
              "    fill: var(--button-hover-fill-color);\n",
              "  }\n",
              "\n",
              "  .colab-df-quickchart-complete:disabled,\n",
              "  .colab-df-quickchart-complete:disabled:hover {\n",
              "    background-color: var(--disabled-bg-color);\n",
              "    fill: var(--disabled-fill-color);\n",
              "    box-shadow: none;\n",
              "  }\n",
              "\n",
              "  .colab-df-spinner {\n",
              "    border: 2px solid var(--fill-color);\n",
              "    border-color: transparent;\n",
              "    border-bottom-color: var(--fill-color);\n",
              "    animation:\n",
              "      spin 1s steps(1) infinite;\n",
              "  }\n",
              "\n",
              "  @keyframes spin {\n",
              "    0% {\n",
              "      border-color: transparent;\n",
              "      border-bottom-color: var(--fill-color);\n",
              "      border-left-color: var(--fill-color);\n",
              "    }\n",
              "    20% {\n",
              "      border-color: transparent;\n",
              "      border-left-color: var(--fill-color);\n",
              "      border-top-color: var(--fill-color);\n",
              "    }\n",
              "    30% {\n",
              "      border-color: transparent;\n",
              "      border-left-color: var(--fill-color);\n",
              "      border-top-color: var(--fill-color);\n",
              "      border-right-color: var(--fill-color);\n",
              "    }\n",
              "    40% {\n",
              "      border-color: transparent;\n",
              "      border-right-color: var(--fill-color);\n",
              "      border-top-color: var(--fill-color);\n",
              "    }\n",
              "    60% {\n",
              "      border-color: transparent;\n",
              "      border-right-color: var(--fill-color);\n",
              "    }\n",
              "    80% {\n",
              "      border-color: transparent;\n",
              "      border-right-color: var(--fill-color);\n",
              "      border-bottom-color: var(--fill-color);\n",
              "    }\n",
              "    90% {\n",
              "      border-color: transparent;\n",
              "      border-bottom-color: var(--fill-color);\n",
              "    }\n",
              "  }\n",
              "</style>\n",
              "\n",
              "  <script>\n",
              "    async function quickchart(key) {\n",
              "      const quickchartButtonEl =\n",
              "        document.querySelector('#' + key + ' button');\n",
              "      quickchartButtonEl.disabled = true;  // To prevent multiple clicks.\n",
              "      quickchartButtonEl.classList.add('colab-df-spinner');\n",
              "      try {\n",
              "        const charts = await google.colab.kernel.invokeFunction(\n",
              "            'suggestCharts', [key], {});\n",
              "      } catch (error) {\n",
              "        console.error('Error during call to suggestCharts:', error);\n",
              "      }\n",
              "      quickchartButtonEl.classList.remove('colab-df-spinner');\n",
              "      quickchartButtonEl.classList.add('colab-df-quickchart-complete');\n",
              "    }\n",
              "    (() => {\n",
              "      let quickchartButtonEl =\n",
              "        document.querySelector('#df-ad69db4b-7397-4055-a4af-71ff7c4f09c9 button');\n",
              "      quickchartButtonEl.style.display =\n",
              "        google.colab.kernel.accessAllowed ? 'block' : 'none';\n",
              "    })();\n",
              "  </script>\n",
              "</div>\n",
              "\n",
              "    </div>\n",
              "  </div>\n"
            ],
            "application/vnd.google.colaboratory.intrinsic+json": {
              "type": "dataframe",
              "variable_name": "df",
              "summary": "{\n  \"name\": \"df\",\n  \"rows\": 1331,\n  \"fields\": [\n    {\n      \"column\": \"Title\",\n      \"properties\": {\n        \"dtype\": \"string\",\n        \"num_unique_values\": 977,\n        \"samples\": [\n          \"Python developer\",\n          \"Teacher Assistant\",\n          \"React native developer\"\n        ],\n        \"semantic_type\": \"\",\n        \"description\": \"\"\n      }\n    },\n    {\n      \"column\": \"Years of Experiences \",\n      \"properties\": {\n        \"dtype\": \"category\",\n        \"num_unique_values\": 149,\n        \"samples\": [\n          \"< 1 month\",\n          8,\n          \"+3\"\n        ],\n        \"semantic_type\": \"\",\n        \"description\": \"\"\n      }\n    },\n    {\n      \"column\": \"Salary\",\n      \"properties\": {\n        \"dtype\": \"category\",\n        \"num_unique_values\": 447,\n        \"samples\": [\n          \"3000$\",\n          \"50K EGP\",\n          48000\n        ],\n        \"semantic_type\": \"\",\n        \"description\": \"\"\n      }\n    },\n    {\n      \"column\": \"Date of Salary\",\n      \"properties\": {\n        \"dtype\": \"category\",\n        \"num_unique_values\": 231,\n        \"samples\": [\n          \"2023-03-10 00:00:00\",\n          \"2023-12-31 00:00:00\",\n          \"2024-02-28 00:00:00\"\n        ],\n        \"semantic_type\": \"\",\n        \"description\": \"\"\n      }\n    },\n    {\n      \"column\": \"What Is your Company\",\n      \"properties\": {\n        \"dtype\": \"category\",\n        \"num_unique_values\": 34,\n        \"samples\": [\n          \"Not Egyptian Not located yet\",\n          \"Egyption with American customer \",\n          \"Egyption but site out of Egypt\"\n        ],\n        \"semantic_type\": \"\",\n        \"description\": \"\"\n      }\n    },\n    {\n      \"column\": \"Work Type\",\n      \"properties\": {\n        \"dtype\": \"category\",\n        \"num_unique_values\": 17,\n        \"samples\": [\n          \"Hybird\",\n          \"On Site\",\n          \"On site and remotly\"\n        ],\n        \"semantic_type\": \"\",\n        \"description\": \"\"\n      }\n    },\n    {\n      \"column\": \"Work Hour\",\n      \"properties\": {\n        \"dtype\": \"category\",\n        \"num_unique_values\": 17,\n        \"samples\": [\n          \"Full Time\",\n          \"Part Time\",\n          \"12 hr\"\n        ],\n        \"semantic_type\": \"\",\n        \"description\": \"\"\n      }\n    },\n    {\n      \"column\": \"City of Company site\",\n      \"properties\": {\n        \"dtype\": \"category\",\n        \"num_unique_values\": 259,\n        \"samples\": [\n          \"UAE\",\n          \"Maadi\",\n          \"Cairo, Riyadh\"\n        ],\n        \"semantic_type\": \"\",\n        \"description\": \"\"\n      }\n    }\n  ]\n}"
            }
          },
          "metadata": {},
          "execution_count": 795
        }
      ]
    },
    {
      "cell_type": "code",
      "source": [
        "df.isnull().sum()"
      ],
      "metadata": {
        "colab": {
          "base_uri": "https://localhost:8080/"
        },
        "id": "eaUoUMzHZHiy",
        "outputId": "63ea9f8f-be91-4238-cdcc-c9b5cfc76127"
      },
      "execution_count": 796,
      "outputs": [
        {
          "output_type": "execute_result",
          "data": {
            "text/plain": [
              "Title                      0\n",
              "Years of Experiences       1\n",
              "Salary                     0\n",
              "Date of Salary             0\n",
              "What Is your Company       0\n",
              "Work Type                  0\n",
              "Work Hour                  0\n",
              "City of Company site     139\n",
              "dtype: int64"
            ]
          },
          "metadata": {},
          "execution_count": 796
        }
      ]
    },
    {
      "cell_type": "markdown",
      "source": [
        "# Jop Title Column"
      ],
      "metadata": {
        "id": "-BALA6r55myM"
      }
    },
    {
      "cell_type": "markdown",
      "source": [
        "\n",
        "\n",
        "* There are many job titles, so I map them to standardized categories based on predefined patterns ✅\n",
        "\n"
      ],
      "metadata": {
        "id": "y4izz7p_54uw"
      }
    },
    {
      "cell_type": "markdown",
      "source": [],
      "metadata": {
        "id": "BKZHfLUGPPEV"
      }
    },
    {
      "cell_type": "code",
      "source": [
        "\n",
        "def job_title(title):\n",
        "    title = str(title).strip().lower()\n",
        "    job_map = {\n",
        "        r'\\bsoftware engineer\\b': 'Software Engineer',\n",
        "        r'\\bsoftware developer\\b': 'Software Engineer',\n",
        "        r'\\bsoftware development\\b': 'Software Engineer',\n",
        "\n",
        "        r'\\bdata analyst\\b': 'Data Analyst',\n",
        "        r'\\bdata analysis\\b': 'Data Analyst',\n",
        "         r'\\bdata analytics\\b': 'Data Analyst',\n",
        "\n",
        "        r'\\bfrontend\\b': 'Frontend Developer',\n",
        "        r'\\bfront end\\b': 'Frontend Developer',\n",
        "        r'\\bfront\\-end\\b': 'Frontend Developer',\n",
        "        r'\\bfront end developer\\b': 'Frontend Developer',\n",
        "\n",
        "        r'\\bback end\\b': 'Backend Developer',\n",
        "        r'\\bbackend\\b': 'Backend Developer',\n",
        "        r'\\bback\\-end\\b': 'Backend Developer',\n",
        "\n",
        "        r'\\bfull stack\\b': 'Full Stack Developer',\n",
        "        r'\\bfullstack\\b': 'Full Stack Developer',\n",
        "        r'\\bfull\\-stack\\b': 'Full Stack Developer',\n",
        "\n",
        "        r'\\.net\\b': '.Net Developer',\n",
        "        r'\\bdotnet\\b': '.Net Developer',\n",
        "        r'\\bdot net\\b': '.Net Developer',\n",
        "\n",
        "        r'\\bdata engineer\\b': 'Data Engineer',\n",
        "\n",
        "        r'\\bandroid\\b': 'Android Developer',\n",
        "\n",
        "        r'\\bmobile\\b': 'Mobile Developer',\n",
        "\n",
        "        r'\\bflutter\\b': 'Flutter Developer',\n",
        "\n",
        "        r'\\bdevops\\b': 'DevOps Engineer',\n",
        "\n",
        "        r'\\bgraphic\\b': 'Graphic Designer',\n",
        "\n",
        "        r'\\bphp\\b': 'PHP Developer',\n",
        "\n",
        "        r'\\bjava\\b': 'Java Developer',\n",
        "\n",
        "        r'\\bdata scientist\\b': 'Data Scientist',\n",
        "        r'\\bdata science\\b': 'Data Scientist',\n",
        "\n",
        "        r'\\bmachine learning\\b': 'Machine Learning Engineer',\n",
        "        r'\\bml engineer\\b': 'Machine Learning Engineer',\n",
        "\n",
        "        r'\\bai\\b': 'AI Engineer',\n",
        "\n",
        "        r'\\bios\\b': 'IOS Developer',\n",
        "\n",
        "        r'\\binstructor\\b': 'Instructor',\n",
        "\n",
        "        r'\\breact\\b': 'React Developer',\n",
        "\n",
        "        r'\\bbi\\b': 'Business Intelligence Engineer',\n",
        "        r'\\bbusiness intelligence\\b': 'Business Intelligence Engineer',\n",
        "        r'\\bbusiness analyst\\b': 'Business Intelligence Engineer',\n",
        "\n",
        "        r'\\bsoftware tester\\b': 'Software Tester',\n",
        "        r'\\btester\\b': 'Software Tester',\n",
        "        r'\\btesting\\b': 'Software Tester',\n",
        "\n",
        "        r'\\boracle\\b': 'Oracle Developer',\n",
        "\n",
        "        r'\\bpython\\b': 'Python Developer',\n",
        "\n",
        "        r'\\bangular\\b': 'Angular Developer',\n",
        "\n",
        "        r'\\bdjango\\b': 'Django Developer',\n",
        "\n",
        "        r'\\bnlp\\b': 'NLP Engineer',\n",
        "\n",
        "        r'\\bnetwork\\b': 'Network Engineer',\n",
        "\n",
        "        r'\\bdatabase\\b': 'Database Engineer',\n",
        "\n",
        "        r'\\bit\\b': 'IT Engineer',\n",
        "\n",
        "        r'\\bnodejs\\b': 'Nodejs Developer',\n",
        "        r'\\bnode\\b': 'Nodejs Developer',\n",
        "\n",
        "        r'\\bcyber\\b': 'Cyber Security Engineer',\n",
        "        r'\\bcyber security\\b': 'Cyber Security Engineer',\n",
        "        r'\\bcybersecurity\\b': 'Cyber Security Engineer',\n",
        "\n",
        "        r'\\bodoo\\b': 'Odoo Developer',\n",
        "\n",
        "        r'\\bui/ux\\b': 'UI/UX Designer',\n",
        "        r'\\bux\\b': 'UI/UX Designer',\n",
        "        r'\\bui\\b': 'UI/UX Designer',\n",
        "\n",
        "        r'\\bembedded\\b': 'Embedded Software Engineer',\n",
        "\n",
        "        r'\\bcomputer vision\\b': 'Computer Vision Engineer',\n",
        "\n",
        "        r'\\bmern\\b': 'Mern Developer',\n",
        "\n",
        "        r'\\bsystem\\b': 'System Engineer',\n",
        "\n",
        "        r'\\bproduction\\b': 'Production Engineer',\n",
        "\n",
        "        r'\\bc\\+\\+\\b': 'C++ Developer',\n",
        "        r'\\\\bc\\\\+\\\\+\\\\b': 'C++ Developer',\n",
        "\n",
        "\n",
        "        r'\\bintegration\\b': 'Integration Engineer',\n",
        "\n",
        "        r'\\bquality \\b': 'Quality Assurance Engineer',\n",
        "\n",
        "\n",
        "    }\n",
        "\n",
        "    for key, value in job_map.items():\n",
        "        if re.search(key, title):\n",
        "            #print(f\"title {title}\")\n",
        "            #print(f\" *** value *** : {value}\")\n",
        "            return value\n",
        "\n",
        "\n",
        "    #print(f\" *** Other title *** : {title}\")\n",
        "    return 'Other'\n",
        "\n"
      ],
      "metadata": {
        "id": "ihI59_IZvkkq"
      },
      "execution_count": 797,
      "outputs": []
    },
    {
      "cell_type": "code",
      "source": [
        "#call the function\n",
        "df['Title'] = df['Title'].apply(job_title)\n"
      ],
      "metadata": {
        "id": "jx9Glbgc5M7-"
      },
      "execution_count": 798,
      "outputs": []
    },
    {
      "cell_type": "code",
      "source": [
        "value_counts = df['Title'].value_counts()\n",
        "for title, count in value_counts.items():\n",
        "    print(f\"{title}: {count}\")\n"
      ],
      "metadata": {
        "colab": {
          "base_uri": "https://localhost:8080/"
        },
        "id": "9G9TXnu0n3vT",
        "outputId": "44798721-9b68-497b-8a78-dff62ce7d087"
      },
      "execution_count": 799,
      "outputs": [
        {
          "output_type": "stream",
          "name": "stdout",
          "text": [
            "Other: 483\n",
            "Frontend Developer: 84\n",
            "Software Engineer: 79\n",
            "Full Stack Developer: 78\n",
            ".Net Developer: 60\n",
            "Backend Developer: 47\n",
            "Data Analyst: 45\n",
            "Flutter Developer: 37\n",
            "PHP Developer: 35\n",
            "Android Developer: 31\n",
            "Java Developer: 27\n",
            "Business Intelligence Engineer: 27\n",
            "Data Engineer: 26\n",
            "Graphic Designer: 22\n",
            "DevOps Engineer: 22\n",
            "Data Scientist: 19\n",
            "Software Tester: 17\n",
            "Quality Assurance Engineer: 16\n",
            "React Developer: 14\n",
            "Machine Learning Engineer: 14\n",
            "IT Engineer: 13\n",
            "IOS Developer: 12\n",
            "UI/UX Designer: 12\n",
            "Oracle Developer: 11\n",
            "AI Engineer: 10\n",
            "Instructor: 9\n",
            "Network Engineer: 8\n",
            "System Engineer: 8\n",
            "Odoo Developer: 7\n",
            "Cyber Security Engineer: 6\n",
            "Integration Engineer: 6\n",
            "Nodejs Developer: 6\n",
            "Embedded Software Engineer: 6\n",
            "Mern Developer: 5\n",
            "Angular Developer: 5\n",
            "Python Developer: 5\n",
            "Production Engineer: 5\n",
            "Django Developer: 3\n",
            "Database Engineer: 3\n",
            "Computer Vision Engineer: 3\n",
            "NLP Engineer: 3\n",
            "Mobile Developer: 2\n"
          ]
        }
      ]
    },
    {
      "cell_type": "markdown",
      "source": [
        "\n",
        "\n",
        "*   Drop all the non-tech jobs from the dataframe ✅\n",
        "\n"
      ],
      "metadata": {
        "id": "4jZYrDYUP5ZL"
      }
    },
    {
      "cell_type": "code",
      "source": [
        "df = df[df['Title'] != 'Other']\n"
      ],
      "metadata": {
        "id": "0ybbgRjgPcy8"
      },
      "execution_count": 800,
      "outputs": []
    },
    {
      "cell_type": "markdown",
      "source": [
        "# Years of Experiences"
      ],
      "metadata": {
        "id": "zL257FdXQo8n"
      }
    },
    {
      "cell_type": "markdown",
      "source": [
        "\n",
        "\n",
        "*  Map and calculate years of experience ✅\n",
        "\n",
        "---\n",
        "\n",
        "\n",
        "\n",
        "\n"
      ],
      "metadata": {
        "id": "MOMEF7yTPPtc"
      }
    },
    {
      "cell_type": "code",
      "source": [
        "def clean_experience(exp):\n",
        "    exp = str(exp).lower().strip()\n",
        "\n",
        "    #  numeric conversion\n",
        "    try:\n",
        "        return float(exp)\n",
        "    except ValueError:\n",
        "        pass\n",
        "\n",
        "    #  years\n",
        "    match = re.search(r'(\\d+)\\s*year', exp)\n",
        "    if match:\n",
        "        return float(match.group(1))\n",
        "\n",
        "    match = re.search(r'(\\d+)\\s*years', exp)\n",
        "    if match:\n",
        "        return float(match.group(1))\n",
        "\n",
        "    # months\n",
        "    match = re.search(r'(\\d+)\\s*month', exp)\n",
        "    if match:\n",
        "        months = float(match.group(1))\n",
        "        if months < 6:\n",
        "            return 0\n",
        "        else:\n",
        "            return 1\n",
        "\n",
        "    match = re.search(r'(\\d+)\\s*months', exp)\n",
        "    if match:\n",
        "        months = float(match.group(1))\n",
        "        if months < 6:\n",
        "            return 0.5\n",
        "        else:\n",
        "            return 1\n",
        "\n",
        "    #  Less than a year\n",
        "    match = re.search(r'less than (\\d+)', exp)\n",
        "    if match:\n",
        "        return float(match.group(1)) - 0.5\n",
        "\n",
        "    if 'less than a year' in exp:\n",
        "        return 0.5\n",
        "\n",
        "    if 'fresh' in exp or 'na' in exp or 'no years' in exp:\n",
        "        return 0.0\n",
        "\n",
        "    #  Handling \"+\"\n",
        "    match = re.search(r'(\\d+)\\s*\\+', exp)\n",
        "    if match:\n",
        "        return float(match.group(1))\n",
        "\n",
        "    #  Handling ranges\n",
        "    match = re.search(r'(\\d+)\\s*-\\s*(\\d+)', exp)\n",
        "    if match:\n",
        "        return (float(match.group(1)) + float(match.group(2))) / 2\n",
        "\n",
        "    # Case 7: Handling '~'\n",
        "    match = re.search(r'~(\\d+)', exp)\n",
        "    if match:\n",
        "        return float(match.group(1))\n",
        "\n",
        "    #  Handle \"one year\"\n",
        "    if exp == 'one year':\n",
        "        return 1.0\n",
        "\n",
        "   # print(f\"No match found for experience value: {exp}\")\n",
        "    return None\n",
        "\n",
        "df['Years of Experiences '] = df['Years of Experiences '].apply(clean_experience)\n"
      ],
      "metadata": {
        "id": "4TdoeC4IRa9o"
      },
      "execution_count": 801,
      "outputs": []
    },
    {
      "cell_type": "code",
      "source": [
        "df.isnull().sum()"
      ],
      "metadata": {
        "colab": {
          "base_uri": "https://localhost:8080/"
        },
        "id": "M4nSTXuTbmvk",
        "outputId": "acd469fd-a052-4fc1-871e-11c706285554"
      },
      "execution_count": 802,
      "outputs": [
        {
          "output_type": "execute_result",
          "data": {
            "text/plain": [
              "Title                     0\n",
              "Years of Experiences     15\n",
              "Salary                    0\n",
              "Date of Salary            0\n",
              "What Is your Company      0\n",
              "Work Type                 0\n",
              "Work Hour                 0\n",
              "City of Company site     95\n",
              "dtype: int64"
            ]
          },
          "metadata": {},
          "execution_count": 802
        }
      ]
    },
    {
      "cell_type": "code",
      "source": [
        "df = df.dropna(subset=['Years of Experiences '])"
      ],
      "metadata": {
        "id": "kFaKnKn7b01V"
      },
      "execution_count": 803,
      "outputs": []
    },
    {
      "cell_type": "markdown",
      "source": [
        "# City of Company site"
      ],
      "metadata": {
        "id": "beTXznlleIMj"
      }
    },
    {
      "cell_type": "markdown",
      "source": [
        "*  Map and calculate company site ✅"
      ],
      "metadata": {
        "id": "PJzDU6ITQ75V"
      }
    },
    {
      "cell_type": "code",
      "source": [
        "df = df.dropna(subset=['City of Company site'])"
      ],
      "metadata": {
        "id": "mLRmZkGhhqtJ"
      },
      "execution_count": 804,
      "outputs": []
    },
    {
      "cell_type": "code",
      "source": [
        "\n",
        "def city(city):\n",
        "    city = str(city).strip().lower()\n",
        "    city_map = {\n",
        "\n",
        "      r'\\bcairo\\b': 'Cairo',\n",
        "\n",
        "      r'\\bgiza\\b': 'Giza',\n",
        "\n",
        "      r'\\balexandria\\b': 'Alexandria',\n",
        "      r'\\balexanderia\\b': 'Alexandria',\n",
        "      r'\\balex\\b': 'Alexandria',\n",
        "\n",
        "      r'\\busa\\b': 'USA',\n",
        "      r'\\bus\\b': 'USA',\n",
        "\n",
        "      r'\\bksa\\b': 'KSA',\n",
        "      r'\\bsaudi\\b': 'KSA',\n",
        "      r'\\briyadh\\b': 'KSA',\n",
        "\n",
        "      r'\\bkuwait\\b': 'Kuwait',\n",
        "\n",
        "      r'\\bdubai\\b': 'Dubai',\n",
        "\n",
        "      r'\\bbenha\\b': 'Banha',\n",
        "      r'\\bbanha\\b': 'Banha',\n",
        "\n",
        "\n",
        "      r'\\bmansoura\\b': 'Mansoura',\n",
        "      r'\\bmansora\\b': 'Mansoura',\n",
        "\n",
        "\n",
        "\n",
        "\n",
        "      r'\\bsmart\\b': 'Smart Village',\n",
        "\n",
        "      r'\\boctober\\b': '6 October',\n",
        "\n",
        "      r'\\bassiut\\b': 'Assiut',\n",
        "      r'\\bmaadi\\b': 'Maadi',\n",
        "      r'\\bsadat\\b': 'Sadat City',\n",
        "      r'\\bnasr\\b': 'Nasr City',\n",
        "      r'\\baswan\\b': 'Aswan',\n",
        "\n",
        "\n",
        "\n",
        "\n",
        "    }\n",
        "\n",
        "    for key, value in city_map.items():\n",
        "        if re.search(key, city):\n",
        "\n",
        "            return value\n",
        "\n",
        "\n",
        "    #print(f\" *** Other title *** : {title}\")\n",
        "    return 'Other'\n",
        "\n"
      ],
      "metadata": {
        "id": "0Zc6FTFrfcpM"
      },
      "execution_count": 805,
      "outputs": []
    },
    {
      "cell_type": "code",
      "source": [
        "df['City of Company site'] = df['City of Company site'].apply(city)\n"
      ],
      "metadata": {
        "id": "WLn8bnlXf-zs"
      },
      "execution_count": 806,
      "outputs": []
    },
    {
      "cell_type": "code",
      "source": [
        "value_counts = df['City of Company site'].value_counts()\n",
        "for site, count in value_counts.items():\n",
        "    print(f\"{site}: {count}\")"
      ],
      "metadata": {
        "colab": {
          "base_uri": "https://localhost:8080/"
        },
        "id": "XZtKdI28gOCx",
        "outputId": "3bbb2d17-68e8-4b07-9668-709476a499a7"
      },
      "execution_count": 807,
      "outputs": [
        {
          "output_type": "stream",
          "name": "stdout",
          "text": [
            "Cairo: 460\n",
            "Other: 73\n",
            "KSA: 37\n",
            "Giza: 36\n",
            "Alexandria: 34\n",
            "Mansoura: 26\n",
            "Dubai: 25\n",
            "USA: 10\n",
            "6 October: 8\n",
            "Smart Village: 8\n",
            "Kuwait: 6\n",
            "Maadi: 5\n",
            "Banha: 3\n",
            "Assiut: 2\n",
            "Aswan: 2\n",
            "Sadat City: 2\n",
            "Nasr City: 2\n"
          ]
        }
      ]
    },
    {
      "cell_type": "markdown",
      "source": [
        "# Salary"
      ],
      "metadata": {
        "id": "OndpzoNzMq-c"
      }
    },
    {
      "cell_type": "markdown",
      "source": [
        "*  Map and calculate salary ✅"
      ],
      "metadata": {
        "id": "hQR428rGRK2f"
      }
    },
    {
      "cell_type": "code",
      "source": [
        "def salary_fun(exp):\n",
        "    exp = str(exp).lower().strip()\n",
        "\n",
        "    #  numeric conversion\n",
        "    try:\n",
        "        result = float(exp)\n",
        "        #print(f\"Direct numeric conversion matched: {result}\")\n",
        "        return result\n",
        "    except ValueError:\n",
        "        pass\n",
        "\n",
        "    #  Match 'le'\n",
        "    match = re.search(r'(\\d+)\\s*le', exp)\n",
        "    if match:\n",
        "        result = float(match.group(1))\n",
        "        #print(f\"Matched 'le': {result}\")\n",
        "        return result\n",
        "\n",
        "    #  Match 'l.e'\n",
        "    match = re.search(r'(\\d+)\\s*l\\.e', exp)\n",
        "    if match:\n",
        "        result = float(match.group(1))\n",
        "        #print(f\"Matched 'l.e': {result}\")\n",
        "        return result\n",
        "\n",
        "    #  Match 'usd' and make it egp\n",
        "    match = re.search(r'(\\d+)\\s*usd', exp)\n",
        "    if match:\n",
        "        result = float(match.group(1)) * 45\n",
        "        #print(f\"Matched 'usd': {result}\")\n",
        "        return result\n",
        "\n",
        "    #  Match '$' and make it egp\n",
        "    match = re.search(r'\\$(\\d+)', exp)\n",
        "    if match:\n",
        "        result = float(match.group(1)) * 45\n",
        "        #print(f\"Matched '$': {result}\")\n",
        "        return result\n",
        "\n",
        "    #  Match 'dollar' and make it egp\n",
        "    match = re.search(r'(\\d+)\\s*dollar', exp)\n",
        "    if match:\n",
        "        result = float(match.group(1)) * 45\n",
        "        #print(f\"Matched 'dollar': {result}\")\n",
        "        return result\n",
        "\n",
        "    #  Match '$' and make it egp\n",
        "    match = re.search(r'(\\d+)\\s?\\$', exp)\n",
        "    if match:\n",
        "        result = float(match.group(1)) * 45\n",
        "       # print(f\"Matched optional space before '$': {result}\")\n",
        "        return result\n",
        "\n",
        "    # Match 'k' and multiply by 1000\n",
        "    match = re.search(r'(\\d+)\\s*k', exp)\n",
        "    if match:\n",
        "        result = float(match.group(1))*1000\n",
        "        #print(f\"Matched 'k': {result}\")\n",
        "        return result\n",
        "\n",
        "    #  Match 'gross'\n",
        "    match = re.search(r'(\\d+)\\s*gross', exp)\n",
        "    if match:\n",
        "        result = float(match.group(1))\n",
        "        #print(f\"Matched 'gross': {result}\")\n",
        "        return result\n",
        "\n",
        "    #  Match 'net'\n",
        "    match = re.search(r'(\\d+)\\s*net', exp)\n",
        "    if match:\n",
        "        result = float(match.group(1))\n",
        "        #print(f\"Matched 'net': {result}\")\n",
        "        return result\n",
        "\n",
        "    #  Match 'pkr' and make it egp\n",
        "    match = re.search(r'(\\d+)\\s*pkr', exp)\n",
        "    if match:\n",
        "        result = float(match.group(1)) * 0.15\n",
        "        #print(f\"Matched 'pkr': {result}\")\n",
        "        return result\n",
        "\n",
        "    #  Match 'aed'and make it egp\n",
        "    match = re.search(r'(\\d+)\\s*aed', exp)\n",
        "    if match:\n",
        "        result = float(match.group(1)) * 13\n",
        "        #print(f\"Matched 'aed': {result}\")\n",
        "        return result\n",
        "\n",
        "    #  Match 'sar' and make it egp\n",
        "    match = re.search(r'(\\d+)\\s*sar', exp)\n",
        "    if match:\n",
        "        result = float(match.group(1)) *13\n",
        "        #print(f\"Matched 'sar': {result}\")\n",
        "        return result\n",
        "\n",
        "    #  Match 'euro' and make it egp\n",
        "    match = re.search(r'(\\d+)\\s*euro', exp)\n",
        "    if match:\n",
        "        result = float(match.group(1)) *52\n",
        "        #print(f\"Matched 'euro': {result}\")\n",
        "        return result\n",
        "\n",
        "    #  Match 'plus flex'\n",
        "    match = re.search(r'(\\d+)\\s*\\+\\s*(\\d+)\\s*flex', exp)\n",
        "    if match:\n",
        "        result = float(match.group(1)) + float(match.group(2))\n",
        "        #print(f\"Matched 'plus flex': {result}\")\n",
        "        return result\n",
        "\n",
        "    # Match '-'\n",
        "    match = re.search(r'(\\d+)\\s*\\-\\s*(\\d+)', exp)\n",
        "    if match:\n",
        "        result = float(match.group(1))\n",
        "        #print(f\"Matched 'minus': {result}\")\n",
        "        return result\n",
        "\n",
        "    # : Match 'egp'\n",
        "    match = re.search(r'(\\d+)\\s*egp', exp)\n",
        "    if match:\n",
        "        result = float(match.group(1))\n",
        "        #print(f\"Matched 'egp': {result}\")\n",
        "        return result\n",
        "\n",
        "    #print(f\"No match found for salary value: {exp}\")\n",
        "    return None\n",
        "\n",
        "\n",
        "df['Salary'] = df['Salary'].apply(salary_fun)\n",
        "\n",
        "\n"
      ],
      "metadata": {
        "id": "kDZX5WGHouIc"
      },
      "execution_count": 808,
      "outputs": []
    },
    {
      "cell_type": "code",
      "source": [
        "df.isnull().sum()"
      ],
      "metadata": {
        "colab": {
          "base_uri": "https://localhost:8080/"
        },
        "id": "XhZtQlrcIPXt",
        "outputId": "dbb110a2-db41-4aa2-d72a-fc02580dddfa"
      },
      "execution_count": 809,
      "outputs": [
        {
          "output_type": "execute_result",
          "data": {
            "text/plain": [
              "Title                     0\n",
              "Years of Experiences      0\n",
              "Salary                   13\n",
              "Date of Salary            0\n",
              "What Is your Company      0\n",
              "Work Type                 0\n",
              "Work Hour                 0\n",
              "City of Company site      0\n",
              "dtype: int64"
            ]
          },
          "metadata": {},
          "execution_count": 809
        }
      ]
    },
    {
      "cell_type": "code",
      "source": [
        "df = df.dropna(subset=['Salary'])"
      ],
      "metadata": {
        "id": "5JQAPuO0IF_r"
      },
      "execution_count": 810,
      "outputs": []
    },
    {
      "cell_type": "markdown",
      "source": [
        "# Company Site"
      ],
      "metadata": {
        "id": "U1nNCyAZJ_Oy"
      }
    },
    {
      "cell_type": "markdown",
      "source": [
        "*  Map Compant site ✅"
      ],
      "metadata": {
        "id": "WPawfTwpSW3j"
      }
    },
    {
      "cell_type": "code",
      "source": [
        "df['What Is your Company'].value_counts()"
      ],
      "metadata": {
        "colab": {
          "base_uri": "https://localhost:8080/"
        },
        "id": "LtWkoEWeImd2",
        "outputId": "31ee1fba-e2ae-40c1-a5cd-c1f53954216f"
      },
      "execution_count": 811,
      "outputs": [
        {
          "output_type": "execute_result",
          "data": {
            "text/plain": [
              "What Is your Company\n",
              "Egyption                                           458\n",
              "Not Egyption but site in egypt                     184\n",
              "Not Egyption and site out of egypt                  68\n",
              "Egyption with American customer                      1\n",
              "Outsourcing to europian company                      1\n",
              "An Egyptian company acquired by a Saudi company      1\n",
              "Egyption but site out of Egypt                       1\n",
              "Dubai                                                1\n",
              "Not Egyptian                                         1\n",
              "Egyptian-Saudi                                       1\n",
              "Not Egyptian Not located yet                         1\n",
              "International in Egypt ( Huawei  GNOC)               1\n",
              "iuy                                                  1\n",
              "Dubai                                                1\n",
              "Egyptian, but clients out of Egypt                   1\n",
              "Multinationals                                       1\n",
              "Multinational company                                1\n",
              "Pakistan                                             1\n",
              "Egyption and site out of egypt                       1\n",
              "Name: count, dtype: int64"
            ]
          },
          "metadata": {},
          "execution_count": 811
        }
      ]
    },
    {
      "cell_type": "code",
      "source": [
        "company_sites = [\n",
        "    'Egyption', 'Not Egyption but site in egypt', 'Not Egyption and site out of egypt'\n",
        "]"
      ],
      "metadata": {
        "id": "dMfcxn0PKfDL"
      },
      "execution_count": 812,
      "outputs": []
    },
    {
      "cell_type": "code",
      "source": [
        "def site_fun(site):\n",
        "    if site in company_sites:\n",
        "        return site\n",
        "    else:\n",
        "        return 'Other'\n",
        "\n",
        "df['What Is your Company']=df['What Is your Company'].apply(site_fun)"
      ],
      "metadata": {
        "id": "sVMlaVYkKDZk"
      },
      "execution_count": 813,
      "outputs": []
    },
    {
      "cell_type": "code",
      "source": [
        "df['What Is your Company'].value_counts()"
      ],
      "metadata": {
        "colab": {
          "base_uri": "https://localhost:8080/"
        },
        "id": "ovc2P488K_xT",
        "outputId": "e825374a-4c5f-411e-c1ae-f152fdcc8308"
      },
      "execution_count": 814,
      "outputs": [
        {
          "output_type": "execute_result",
          "data": {
            "text/plain": [
              "What Is your Company\n",
              "Egyption                              458\n",
              "Not Egyption but site in egypt        184\n",
              "Not Egyption and site out of egypt     68\n",
              "Other                                  16\n",
              "Name: count, dtype: int64"
            ]
          },
          "metadata": {},
          "execution_count": 814
        }
      ]
    },
    {
      "cell_type": "markdown",
      "source": [
        "# Work Type"
      ],
      "metadata": {
        "id": "n9570c3mLNas"
      }
    },
    {
      "cell_type": "markdown",
      "source": [
        "*  Map Work Type ✅"
      ],
      "metadata": {
        "id": "scungDu6SfGN"
      }
    },
    {
      "cell_type": "code",
      "source": [
        "df['Work Type'].value_counts()"
      ],
      "metadata": {
        "colab": {
          "base_uri": "https://localhost:8080/"
        },
        "id": "fnEk_B5XJv2E",
        "outputId": "20ead94c-08d2-4f48-c4a7-18ebc596f525"
      },
      "execution_count": 815,
      "outputs": [
        {
          "output_type": "execute_result",
          "data": {
            "text/plain": [
              "Work Type\n",
              "Hybird                                                281\n",
              "On Site                                               240\n",
              "Remotley                                              199\n",
              "used to be onsite but now im remotley                   1\n",
              "Flexible hours ( from home & the office as I like)      1\n",
              "Remotely but sometimes goes to the office               1\n",
              "hjgu                                                    1\n",
              "Outsource                                               1\n",
              "All                                                     1\n",
              "Name: count, dtype: int64"
            ]
          },
          "metadata": {},
          "execution_count": 815
        }
      ]
    },
    {
      "cell_type": "code",
      "source": [
        "work_type = ['Hybird','On Site','Remotley']"
      ],
      "metadata": {
        "id": "t5e3PHdKLQIM"
      },
      "execution_count": 816,
      "outputs": []
    },
    {
      "cell_type": "code",
      "source": [
        "def work_type_fun (work):\n",
        "  if work in work_type:\n",
        "    return work\n",
        "  else :\n",
        "      return 'Other'\n"
      ],
      "metadata": {
        "id": "BS4072gxLYgb"
      },
      "execution_count": 817,
      "outputs": []
    },
    {
      "cell_type": "code",
      "source": [
        "df['Work Type'] = df['Work Type'].apply(work_type_fun)\n"
      ],
      "metadata": {
        "id": "CLqkOgHwLrGt"
      },
      "execution_count": 818,
      "outputs": []
    },
    {
      "cell_type": "code",
      "source": [
        "df['Work Type'].value_counts()"
      ],
      "metadata": {
        "colab": {
          "base_uri": "https://localhost:8080/"
        },
        "id": "hIksd3e9Jzai",
        "outputId": "13cd23e7-58c7-4e56-bc85-b956623d175f"
      },
      "execution_count": 819,
      "outputs": [
        {
          "output_type": "execute_result",
          "data": {
            "text/plain": [
              "Work Type\n",
              "Hybird      281\n",
              "On Site     240\n",
              "Remotley    199\n",
              "Other         6\n",
              "Name: count, dtype: int64"
            ]
          },
          "metadata": {},
          "execution_count": 819
        }
      ]
    },
    {
      "cell_type": "markdown",
      "source": [
        "# Work Hours"
      ],
      "metadata": {
        "id": "sAr92TQFMffd"
      }
    },
    {
      "cell_type": "markdown",
      "source": [
        "*  Map Work Hours ✅"
      ],
      "metadata": {
        "id": "tSzh06c-Sl8V"
      }
    },
    {
      "cell_type": "code",
      "source": [
        "df['Work Hour'].value_counts()"
      ],
      "metadata": {
        "colab": {
          "base_uri": "https://localhost:8080/"
        },
        "id": "fDwGi0rdJ6Tm",
        "outputId": "8fd4c7ba-ba80-4351-f1e7-a6ef0c0aede9"
      },
      "execution_count": 820,
      "outputs": [
        {
          "output_type": "execute_result",
          "data": {
            "text/plain": [
              "Work Hour\n",
              "Full Time                                                                                                                                                                        692\n",
              "Part Time                                                                                                                                                                         29\n",
              "Freelancing                                                                                                                                                                        1\n",
              "Full-Time / Initial 3 Months                                                                                                                                                       1\n",
              "Along with uni (almost full-time)                                                                                                                                                  1\n",
              "contract without an ending date and the owner is saudian and also I don't know a lot about the company so you can search about it if you want to : https://findingfromegy.net      1\n",
              "Flexible                                                                                                                                                                           1\n",
              "Name: count, dtype: int64"
            ]
          },
          "metadata": {},
          "execution_count": 820
        }
      ]
    },
    {
      "cell_type": "code",
      "source": [
        "work_hour_list=['Full Time','Part Time']"
      ],
      "metadata": {
        "id": "VQcA9lHBNGIU"
      },
      "execution_count": 821,
      "outputs": []
    },
    {
      "cell_type": "code",
      "source": [
        "def work_hour(hour):\n",
        "  if hour in work_hour_list:\n",
        "    return hour\n",
        "  else :\n",
        "    return \"Other\""
      ],
      "metadata": {
        "id": "TRmyIdFwNODt"
      },
      "execution_count": 822,
      "outputs": []
    },
    {
      "cell_type": "code",
      "source": [
        "df['Work Hour']=df['Work Hour'].apply(work_hour)"
      ],
      "metadata": {
        "id": "LDOEL84yNaDs"
      },
      "execution_count": 823,
      "outputs": []
    },
    {
      "cell_type": "code",
      "source": [
        "df['Work Hour'].value_counts()"
      ],
      "metadata": {
        "colab": {
          "base_uri": "https://localhost:8080/"
        },
        "id": "5bWcF4nENi-8",
        "outputId": "5fec15c6-5e76-4fc1-e126-0b3030f71ecb"
      },
      "execution_count": 824,
      "outputs": [
        {
          "output_type": "execute_result",
          "data": {
            "text/plain": [
              "Work Hour\n",
              "Full Time    692\n",
              "Part Time     29\n",
              "Other          5\n",
              "Name: count, dtype: int64"
            ]
          },
          "metadata": {},
          "execution_count": 824
        }
      ]
    },
    {
      "cell_type": "code",
      "source": [
        "df.head()"
      ],
      "metadata": {
        "colab": {
          "base_uri": "https://localhost:8080/",
          "height": 206
        },
        "id": "Rz7ZDyIHNlmk",
        "outputId": "7b9f9fc2-508e-441d-b964-da839e8629e6"
      },
      "execution_count": 825,
      "outputs": [
        {
          "output_type": "execute_result",
          "data": {
            "text/plain": [
              "                      Title  Years of Experiences    Salary  \\\n",
              "0            .Net Developer                    2.0   8000.0   \n",
              "2         Android Developer                    1.0  10000.0   \n",
              "3           DevOps Engineer                    0.0  10000.0   \n",
              "4            Java Developer                    1.0  20000.0   \n",
              "5  Computer Vision Engineer                    1.0  15000.0   \n",
              "\n",
              "        Date of Salary What Is your Company Work Type  Work Hour  \\\n",
              "0  2024-02-01 00:00:00             Egyption    Hybird  Full Time   \n",
              "2  2024-02-20 00:00:00             Egyption    Hybird  Full Time   \n",
              "3  2024-02-19 00:00:00             Egyption   On Site  Full Time   \n",
              "4  2024-02-19 00:00:00             Egyption   On Site  Full Time   \n",
              "5  2023-07-16 00:00:00             Egyption  Remotley  Full Time   \n",
              "\n",
              "  City of Company site  \n",
              "0                Cairo  \n",
              "2                Cairo  \n",
              "3               Assiut  \n",
              "4                Cairo  \n",
              "5                Cairo  "
            ],
            "text/html": [
              "\n",
              "  <div id=\"df-00379eed-47a6-4992-9839-2050b24d8561\" class=\"colab-df-container\">\n",
              "    <div>\n",
              "<style scoped>\n",
              "    .dataframe tbody tr th:only-of-type {\n",
              "        vertical-align: middle;\n",
              "    }\n",
              "\n",
              "    .dataframe tbody tr th {\n",
              "        vertical-align: top;\n",
              "    }\n",
              "\n",
              "    .dataframe thead th {\n",
              "        text-align: right;\n",
              "    }\n",
              "</style>\n",
              "<table border=\"1\" class=\"dataframe\">\n",
              "  <thead>\n",
              "    <tr style=\"text-align: right;\">\n",
              "      <th></th>\n",
              "      <th>Title</th>\n",
              "      <th>Years of Experiences</th>\n",
              "      <th>Salary</th>\n",
              "      <th>Date of Salary</th>\n",
              "      <th>What Is your Company</th>\n",
              "      <th>Work Type</th>\n",
              "      <th>Work Hour</th>\n",
              "      <th>City of Company site</th>\n",
              "    </tr>\n",
              "  </thead>\n",
              "  <tbody>\n",
              "    <tr>\n",
              "      <th>0</th>\n",
              "      <td>.Net Developer</td>\n",
              "      <td>2.0</td>\n",
              "      <td>8000.0</td>\n",
              "      <td>2024-02-01 00:00:00</td>\n",
              "      <td>Egyption</td>\n",
              "      <td>Hybird</td>\n",
              "      <td>Full Time</td>\n",
              "      <td>Cairo</td>\n",
              "    </tr>\n",
              "    <tr>\n",
              "      <th>2</th>\n",
              "      <td>Android Developer</td>\n",
              "      <td>1.0</td>\n",
              "      <td>10000.0</td>\n",
              "      <td>2024-02-20 00:00:00</td>\n",
              "      <td>Egyption</td>\n",
              "      <td>Hybird</td>\n",
              "      <td>Full Time</td>\n",
              "      <td>Cairo</td>\n",
              "    </tr>\n",
              "    <tr>\n",
              "      <th>3</th>\n",
              "      <td>DevOps Engineer</td>\n",
              "      <td>0.0</td>\n",
              "      <td>10000.0</td>\n",
              "      <td>2024-02-19 00:00:00</td>\n",
              "      <td>Egyption</td>\n",
              "      <td>On Site</td>\n",
              "      <td>Full Time</td>\n",
              "      <td>Assiut</td>\n",
              "    </tr>\n",
              "    <tr>\n",
              "      <th>4</th>\n",
              "      <td>Java Developer</td>\n",
              "      <td>1.0</td>\n",
              "      <td>20000.0</td>\n",
              "      <td>2024-02-19 00:00:00</td>\n",
              "      <td>Egyption</td>\n",
              "      <td>On Site</td>\n",
              "      <td>Full Time</td>\n",
              "      <td>Cairo</td>\n",
              "    </tr>\n",
              "    <tr>\n",
              "      <th>5</th>\n",
              "      <td>Computer Vision Engineer</td>\n",
              "      <td>1.0</td>\n",
              "      <td>15000.0</td>\n",
              "      <td>2023-07-16 00:00:00</td>\n",
              "      <td>Egyption</td>\n",
              "      <td>Remotley</td>\n",
              "      <td>Full Time</td>\n",
              "      <td>Cairo</td>\n",
              "    </tr>\n",
              "  </tbody>\n",
              "</table>\n",
              "</div>\n",
              "    <div class=\"colab-df-buttons\">\n",
              "\n",
              "  <div class=\"colab-df-container\">\n",
              "    <button class=\"colab-df-convert\" onclick=\"convertToInteractive('df-00379eed-47a6-4992-9839-2050b24d8561')\"\n",
              "            title=\"Convert this dataframe to an interactive table.\"\n",
              "            style=\"display:none;\">\n",
              "\n",
              "  <svg xmlns=\"http://www.w3.org/2000/svg\" height=\"24px\" viewBox=\"0 -960 960 960\">\n",
              "    <path d=\"M120-120v-720h720v720H120Zm60-500h600v-160H180v160Zm220 220h160v-160H400v160Zm0 220h160v-160H400v160ZM180-400h160v-160H180v160Zm440 0h160v-160H620v160ZM180-180h160v-160H180v160Zm440 0h160v-160H620v160Z\"/>\n",
              "  </svg>\n",
              "    </button>\n",
              "\n",
              "  <style>\n",
              "    .colab-df-container {\n",
              "      display:flex;\n",
              "      gap: 12px;\n",
              "    }\n",
              "\n",
              "    .colab-df-convert {\n",
              "      background-color: #E8F0FE;\n",
              "      border: none;\n",
              "      border-radius: 50%;\n",
              "      cursor: pointer;\n",
              "      display: none;\n",
              "      fill: #1967D2;\n",
              "      height: 32px;\n",
              "      padding: 0 0 0 0;\n",
              "      width: 32px;\n",
              "    }\n",
              "\n",
              "    .colab-df-convert:hover {\n",
              "      background-color: #E2EBFA;\n",
              "      box-shadow: 0px 1px 2px rgba(60, 64, 67, 0.3), 0px 1px 3px 1px rgba(60, 64, 67, 0.15);\n",
              "      fill: #174EA6;\n",
              "    }\n",
              "\n",
              "    .colab-df-buttons div {\n",
              "      margin-bottom: 4px;\n",
              "    }\n",
              "\n",
              "    [theme=dark] .colab-df-convert {\n",
              "      background-color: #3B4455;\n",
              "      fill: #D2E3FC;\n",
              "    }\n",
              "\n",
              "    [theme=dark] .colab-df-convert:hover {\n",
              "      background-color: #434B5C;\n",
              "      box-shadow: 0px 1px 3px 1px rgba(0, 0, 0, 0.15);\n",
              "      filter: drop-shadow(0px 1px 2px rgba(0, 0, 0, 0.3));\n",
              "      fill: #FFFFFF;\n",
              "    }\n",
              "  </style>\n",
              "\n",
              "    <script>\n",
              "      const buttonEl =\n",
              "        document.querySelector('#df-00379eed-47a6-4992-9839-2050b24d8561 button.colab-df-convert');\n",
              "      buttonEl.style.display =\n",
              "        google.colab.kernel.accessAllowed ? 'block' : 'none';\n",
              "\n",
              "      async function convertToInteractive(key) {\n",
              "        const element = document.querySelector('#df-00379eed-47a6-4992-9839-2050b24d8561');\n",
              "        const dataTable =\n",
              "          await google.colab.kernel.invokeFunction('convertToInteractive',\n",
              "                                                    [key], {});\n",
              "        if (!dataTable) return;\n",
              "\n",
              "        const docLinkHtml = 'Like what you see? Visit the ' +\n",
              "          '<a target=\"_blank\" href=https://colab.research.google.com/notebooks/data_table.ipynb>data table notebook</a>'\n",
              "          + ' to learn more about interactive tables.';\n",
              "        element.innerHTML = '';\n",
              "        dataTable['output_type'] = 'display_data';\n",
              "        await google.colab.output.renderOutput(dataTable, element);\n",
              "        const docLink = document.createElement('div');\n",
              "        docLink.innerHTML = docLinkHtml;\n",
              "        element.appendChild(docLink);\n",
              "      }\n",
              "    </script>\n",
              "  </div>\n",
              "\n",
              "\n",
              "<div id=\"df-317ffca9-a307-4885-92e7-fee696617a2d\">\n",
              "  <button class=\"colab-df-quickchart\" onclick=\"quickchart('df-317ffca9-a307-4885-92e7-fee696617a2d')\"\n",
              "            title=\"Suggest charts\"\n",
              "            style=\"display:none;\">\n",
              "\n",
              "<svg xmlns=\"http://www.w3.org/2000/svg\" height=\"24px\"viewBox=\"0 0 24 24\"\n",
              "     width=\"24px\">\n",
              "    <g>\n",
              "        <path d=\"M19 3H5c-1.1 0-2 .9-2 2v14c0 1.1.9 2 2 2h14c1.1 0 2-.9 2-2V5c0-1.1-.9-2-2-2zM9 17H7v-7h2v7zm4 0h-2V7h2v10zm4 0h-2v-4h2v4z\"/>\n",
              "    </g>\n",
              "</svg>\n",
              "  </button>\n",
              "\n",
              "<style>\n",
              "  .colab-df-quickchart {\n",
              "      --bg-color: #E8F0FE;\n",
              "      --fill-color: #1967D2;\n",
              "      --hover-bg-color: #E2EBFA;\n",
              "      --hover-fill-color: #174EA6;\n",
              "      --disabled-fill-color: #AAA;\n",
              "      --disabled-bg-color: #DDD;\n",
              "  }\n",
              "\n",
              "  [theme=dark] .colab-df-quickchart {\n",
              "      --bg-color: #3B4455;\n",
              "      --fill-color: #D2E3FC;\n",
              "      --hover-bg-color: #434B5C;\n",
              "      --hover-fill-color: #FFFFFF;\n",
              "      --disabled-bg-color: #3B4455;\n",
              "      --disabled-fill-color: #666;\n",
              "  }\n",
              "\n",
              "  .colab-df-quickchart {\n",
              "    background-color: var(--bg-color);\n",
              "    border: none;\n",
              "    border-radius: 50%;\n",
              "    cursor: pointer;\n",
              "    display: none;\n",
              "    fill: var(--fill-color);\n",
              "    height: 32px;\n",
              "    padding: 0;\n",
              "    width: 32px;\n",
              "  }\n",
              "\n",
              "  .colab-df-quickchart:hover {\n",
              "    background-color: var(--hover-bg-color);\n",
              "    box-shadow: 0 1px 2px rgba(60, 64, 67, 0.3), 0 1px 3px 1px rgba(60, 64, 67, 0.15);\n",
              "    fill: var(--button-hover-fill-color);\n",
              "  }\n",
              "\n",
              "  .colab-df-quickchart-complete:disabled,\n",
              "  .colab-df-quickchart-complete:disabled:hover {\n",
              "    background-color: var(--disabled-bg-color);\n",
              "    fill: var(--disabled-fill-color);\n",
              "    box-shadow: none;\n",
              "  }\n",
              "\n",
              "  .colab-df-spinner {\n",
              "    border: 2px solid var(--fill-color);\n",
              "    border-color: transparent;\n",
              "    border-bottom-color: var(--fill-color);\n",
              "    animation:\n",
              "      spin 1s steps(1) infinite;\n",
              "  }\n",
              "\n",
              "  @keyframes spin {\n",
              "    0% {\n",
              "      border-color: transparent;\n",
              "      border-bottom-color: var(--fill-color);\n",
              "      border-left-color: var(--fill-color);\n",
              "    }\n",
              "    20% {\n",
              "      border-color: transparent;\n",
              "      border-left-color: var(--fill-color);\n",
              "      border-top-color: var(--fill-color);\n",
              "    }\n",
              "    30% {\n",
              "      border-color: transparent;\n",
              "      border-left-color: var(--fill-color);\n",
              "      border-top-color: var(--fill-color);\n",
              "      border-right-color: var(--fill-color);\n",
              "    }\n",
              "    40% {\n",
              "      border-color: transparent;\n",
              "      border-right-color: var(--fill-color);\n",
              "      border-top-color: var(--fill-color);\n",
              "    }\n",
              "    60% {\n",
              "      border-color: transparent;\n",
              "      border-right-color: var(--fill-color);\n",
              "    }\n",
              "    80% {\n",
              "      border-color: transparent;\n",
              "      border-right-color: var(--fill-color);\n",
              "      border-bottom-color: var(--fill-color);\n",
              "    }\n",
              "    90% {\n",
              "      border-color: transparent;\n",
              "      border-bottom-color: var(--fill-color);\n",
              "    }\n",
              "  }\n",
              "</style>\n",
              "\n",
              "  <script>\n",
              "    async function quickchart(key) {\n",
              "      const quickchartButtonEl =\n",
              "        document.querySelector('#' + key + ' button');\n",
              "      quickchartButtonEl.disabled = true;  // To prevent multiple clicks.\n",
              "      quickchartButtonEl.classList.add('colab-df-spinner');\n",
              "      try {\n",
              "        const charts = await google.colab.kernel.invokeFunction(\n",
              "            'suggestCharts', [key], {});\n",
              "      } catch (error) {\n",
              "        console.error('Error during call to suggestCharts:', error);\n",
              "      }\n",
              "      quickchartButtonEl.classList.remove('colab-df-spinner');\n",
              "      quickchartButtonEl.classList.add('colab-df-quickchart-complete');\n",
              "    }\n",
              "    (() => {\n",
              "      let quickchartButtonEl =\n",
              "        document.querySelector('#df-317ffca9-a307-4885-92e7-fee696617a2d button');\n",
              "      quickchartButtonEl.style.display =\n",
              "        google.colab.kernel.accessAllowed ? 'block' : 'none';\n",
              "    })();\n",
              "  </script>\n",
              "</div>\n",
              "\n",
              "    </div>\n",
              "  </div>\n"
            ],
            "application/vnd.google.colaboratory.intrinsic+json": {
              "type": "dataframe",
              "variable_name": "df",
              "summary": "{\n  \"name\": \"df\",\n  \"rows\": 726,\n  \"fields\": [\n    {\n      \"column\": \"Title\",\n      \"properties\": {\n        \"dtype\": \"category\",\n        \"num_unique_values\": 41,\n        \"samples\": [\n          \"Machine Learning Engineer\",\n          \"AI Engineer\",\n          \"Business Intelligence Engineer\"\n        ],\n        \"semantic_type\": \"\",\n        \"description\": \"\"\n      }\n    },\n    {\n      \"column\": \"Years of Experiences \",\n      \"properties\": {\n        \"dtype\": \"number\",\n        \"std\": 2.4587516574714594,\n        \"min\": 0.0,\n        \"max\": 24.0,\n        \"num_unique_values\": 32,\n        \"samples\": [\n          22.0,\n          0.5,\n          24.0\n        ],\n        \"semantic_type\": \"\",\n        \"description\": \"\"\n      }\n    },\n    {\n      \"column\": \"Salary\",\n      \"properties\": {\n        \"dtype\": \"number\",\n        \"std\": 42553.144248663906,\n        \"min\": 0.0,\n        \"max\": 531000.0,\n        \"num_unique_values\": 172,\n        \"samples\": [\n          26500.0,\n          6600.0,\n          80000.0\n        ],\n        \"semantic_type\": \"\",\n        \"description\": \"\"\n      }\n    },\n    {\n      \"column\": \"Date of Salary\",\n      \"properties\": {\n        \"dtype\": \"category\",\n        \"num_unique_values\": 151,\n        \"samples\": [\n          \"1995-02-20 00:00:00\",\n          \"2023-01-01 00:00:00\",\n          \"2023-02-15 00:00:00\"\n        ],\n        \"semantic_type\": \"\",\n        \"description\": \"\"\n      }\n    },\n    {\n      \"column\": \"What Is your Company\",\n      \"properties\": {\n        \"dtype\": \"category\",\n        \"num_unique_values\": 4,\n        \"samples\": [\n          \"Not Egyption but site in egypt\",\n          \"Other\",\n          \"Egyption\"\n        ],\n        \"semantic_type\": \"\",\n        \"description\": \"\"\n      }\n    },\n    {\n      \"column\": \"Work Type\",\n      \"properties\": {\n        \"dtype\": \"category\",\n        \"num_unique_values\": 4,\n        \"samples\": [\n          \"On Site\",\n          \"Other\",\n          \"Hybird\"\n        ],\n        \"semantic_type\": \"\",\n        \"description\": \"\"\n      }\n    },\n    {\n      \"column\": \"Work Hour\",\n      \"properties\": {\n        \"dtype\": \"category\",\n        \"num_unique_values\": 3,\n        \"samples\": [\n          \"Full Time\",\n          \"Part Time\",\n          \"Other\"\n        ],\n        \"semantic_type\": \"\",\n        \"description\": \"\"\n      }\n    },\n    {\n      \"column\": \"City of Company site\",\n      \"properties\": {\n        \"dtype\": \"category\",\n        \"num_unique_values\": 17,\n        \"samples\": [\n          \"Cairo\",\n          \"Assiut\",\n          \"6 October\"\n        ],\n        \"semantic_type\": \"\",\n        \"description\": \"\"\n      }\n    }\n  ]\n}"
            }
          },
          "metadata": {},
          "execution_count": 825
        }
      ]
    },
    {
      "cell_type": "markdown",
      "source": [
        "\n",
        "\n",
        "*  Finally, I am saving my data frame that contains only tech jobs. 💯\n",
        "\n"
      ],
      "metadata": {
        "id": "E195CmW8SyoG"
      }
    },
    {
      "cell_type": "code",
      "source": [
        "df.to_csv('Tech_Egyptian_Salary.csv', index=False)\n"
      ],
      "metadata": {
        "id": "pO5DZ4pMNnAs"
      },
      "execution_count": 826,
      "outputs": []
    }
  ]
}